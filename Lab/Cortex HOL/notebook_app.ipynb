{
 "metadata": {
  "kernelspec": {
   "display_name": "Streamlit Notebook",
   "name": "streamlit"
  }
 },
 "nbformat_minor": 5,
 "nbformat": 4,
 "cells": [
  {
   "cell_type": "markdown",
   "id": "7c84a2c0-ea96-4b15-b8d2-7eeb43f374c8",
   "metadata": {
    "name": "cell2",
    "collapsed": false
   },
   "source": "# phData - Snowflake Cortex HOL"
  },
  {
   "cell_type": "markdown",
   "id": "9af5ea6c-58a9-44ae-ace8-fb6881a25253",
   "metadata": {
    "name": "cell1",
    "collapsed": false
   },
   "source": "## 1. Overview\n\nTo reduce hallucinations (i.e. incorrect responses), LLMs can be combined with private datasets. Today, the most common approach for reducing hallucinations without having to change the model (e.g. fine-tuning) is the Retrieval Augmented Generation (RAG) framework. RAG allows you to \"ground\" the model's responses by making a set of relevant documents available to the LLM as context in the response.\n\nIn this quickstart we will show you how to quickly and securely build a full-stack RAG application in Snowflake without having to build integrations, manage any infrastructure or deal with security concerns with data moving outside of the Snowflake governance framework.\n\nWe will show you how easy it is to implement RAG via a chat assistant that knows everything about smart devices. This assistant can be really useful for your not so tech-savvy friend or relative that is always asking you questions about their electronics. To make the assistant an expert in a smart devices, we are going to give it access to a few User Manuals. This template can easily be adapted to other documents that may be more interesting to you whether its financial reports, research documents or anything else!\n\nAlong the way, we will also share tips on how you could turn what may seem like a prototype into a production pipeline by showing you how to automatically process new documents as they are uploaded as well as learn about relevant Snowflake functionality to consider for additional enhancements.\n\n### What You Will Build\n\nThe final product includes an application that lets users test how the LLM responds with and without the context document(s) to show how RAG can address hallucinations.\n\n### What You Will Learn\n\nHow to create functions that use Python libraries using [Snowpark](https://www.snowflake.com/en/data-cloud/snowpark/?_fsi=P4Dy8V0O&_fsi=P4Dy8V0O&_fsi=P4Dy8V0O&_fsi=P4Dy8V0O)\n\nHow to generate embeddings, run semantic search and use LLMs using serverless functions in [Snowflake Cortex](https://www.snowflake.com/cortex?_fsi=P4Dy8V0O&_fsi=P4Dy8V0O&_fsi=P4Dy8V0O&_fsi=P4Dy8V0O)\n\nHow to build a front-end with Python using [Streamlit in Snowflake](https://www.snowflake.com/en/data-cloud/overview/streamlit-in-snowflake/?_fsi=P4Dy8V0O&_fsi=P4Dy8V0O&_fsi=P4Dy8V0O&_fsi=P4Dy8V0O)\n\nOptional: How to automate data processing pipelines using directory tables, [Streams](https://docs.snowflake.com/en/user-guide/streams-intro?_fsi=P4Dy8V0O&_fsi=P4Dy8V0O&_fsi=P4Dy8V0O&_fsi=P4Dy8V0O) and [Task](https://docs.snowflake.com/en/user-guide/tasks-intro?_fsi=P4Dy8V0O&_fsi=P4Dy8V0O&_fsi=P4Dy8V0O&_fsi=P4Dy8V0O)\n\n### Prerequisites\n\nSnowflake account in a cloud region where Snowflake Cortex LLM functions are supported\n\nCheck [LLM availability](https://docs.snowflake.com/en/user-guide/snowflake-cortex/llm-functions?_ga=2.5151286.405859672.1709568467-277021311.1701887324&_gac=1.124754680.1707955750.Cj0KCQiA5rGuBhCnARIsAN11vgRLWfK6RIoIEqcZ7cFas8qwN4yCoL0q9nttp5UEmSocnPmhdBG57fgaAjqNEALw_wcB&_fsi=j2b82Wl3&_fsi=P4Dy8V0O&_fsi=P4Dy8V0O&_fsi=P4Dy8V0O&_fsi=P4Dy8V0O#availability) to help you decide where you want to create your snowflake account\n\nA Snowflake account with [Anaconda Packages](https://docs.snowflake.com/en/developer-guide/udf/python/udf-python-packages?_fsi=P4Dy8V0O&_fsi=P4Dy8V0O&_fsi=P4Dy8V0O&_fsi=P4Dy8V0O&_fsi=P4Dy8V0O&_fsi=P4Dy8V0O&_fsi=P4Dy8V0O&_fsi=P4Dy8V0O#using-third-party-packages-from-anaconda) enabled by ORGADMIN.\n\nSnowflake Cortex vector functions for semantic distance calculations along with VECTOR as a data type enabled."
  },
  {
   "cell_type": "markdown",
   "id": "5ed6821f-4797-46cb-a66d-cdfc9c555508",
   "metadata": {
    "name": "cell3",
    "collapsed": false
   },
   "source": "## 2. Organize Documents and Create Pre-Processing Functions\n\nIn Snowflake, databases and schemas are used to organize and govern access to data and logic. Let´s start by getting a few documents locally and then create a database that will hold the PDFs, the functions that will process (extract and chunk) those PDFs and the table that will hold the text embeddings.\n\n### Step 1. Download example documents\n\nLet's download a few documents we have created about bikes. In those documents we have added some very specific information about those ficticious models. You can always add more or use a different type of documents that you want to try asking questions against. At the end we are going to test how the LLM responds with and without access to the information in the documents.\n\n- [Mondracer Infant Bike](https://github.com/Snowflake-Labs/sfquickstarts/blob/master/site/sfguides/src/ask-questions-to-your-documents-using-rag-with-snowflake-cortex/assets/Mondracer_Infant_Bike.pdf?_fsi=P4Dy8V0O&_fsi=P4Dy8V0O&_fsi=P4Dy8V0O&_fsi=P4Dy8V0O&_fsi=P4Dy8V0O&_fsi=P4Dy8V0O&_fsi=P4Dy8V0O&_fsi=P4Dy8V0O)\n- [Premium Bycycle User Guide](https://github.com/Snowflake-Labs/sfquickstarts/blob/master/site/sfguides/src/ask-questions-to-your-documents-using-rag-with-snowflake-cortex/assets/Premium_Bicycle_User_Guide.pdf?_fsi=P4Dy8V0O&_fsi=P4Dy8V0O&_fsi=P4Dy8V0O&_fsi=P4Dy8V0O&_fsi=P4Dy8V0O&_fsi=P4Dy8V0O)\n- [Ski Boots TDBootz Special](https://github.com/Snowflake-Labs/sfquickstarts/blob/master/site/sfguides/src/ask-questions-to-your-documents-using-rag-with-snowflake-cortex/assets/Ski_Boots_TDBootz_Special.pdf?_fsi=P4Dy8V0O&_fsi=P4Dy8V0O&_fsi=P4Dy8V0O&_fsi=P4Dy8V0O&_fsi=P4Dy8V0O&_fsi=P4Dy8V0O)\n- [The Ultimate Downhill Bike](https://github.com/Snowflake-Labs/sfquickstarts/blob/master/site/sfguides/src/ask-questions-to-your-documents-using-rag-with-snowflake-cortex/assets/The_Ultimate_Downhill_Bike.pdf?_fsi=P4Dy8V0O&_fsi=P4Dy8V0O&_fsi=P4Dy8V0O&_fsi=P4Dy8V0O&_fsi=P4Dy8V0O&_fsi=P4Dy8V0O)\n\n### Step 2. Open a new Worksheet\n\nRelevant documentation: [Creating Snowflake Worksheets](https://docs.snowflake.com/en/user-guide/ui-snowsight-worksheets-gs?_fsi=P4Dy8V0O&_fsi=P4Dy8V0O&_fsi=P4Dy8V0O&_fsi=P4Dy8V0O#create-worksheets-in-sf-web-interface).\n\n### Step 3. Create a database and a schema\n\nRun the following code inside your newly created worksheet:"
  },
  {
   "cell_type": "code",
   "id": "6a9bf230-61e5-4e8c-81af-95aaa75c2876",
   "metadata": {
    "language": "sql",
    "name": "cell4"
   },
   "outputs": [],
   "source": "-- CREATE DATABASE CC_QUICKSTART_CORTEX_DOCS;\n-- CREATE SCHEMA DATA;\nUSE CC_QUICKSTART_CORTEX_DOCS.DATA;",
   "execution_count": null
  },
  {
   "cell_type": "markdown",
   "id": "a53c943c-a96a-4173-9161-68c1e5c6a5ec",
   "metadata": {
    "name": "cell5",
    "collapsed": false
   },
   "source": "Relevant documentation: [Database and Schema management](https://docs.snowflake.com/en/sql-reference/ddl-database?_fsi=P4Dy8V0O&_fsi=P4Dy8V0O&_fsi=P4Dy8V0O&_fsi=P4Dy8V0O&_fsi=P4Dy8V0O&_fsi=P4Dy8V0O&_fsi=P4Dy8V0O&_fsi=P4Dy8V0O)\n\n### Step 4. Create a table function that will read the PDF documents and split them in chunks\n\nWe will be using the PyPDF2 and Langchain Python libraries to accomplish the necessary document processing tasks. Because as part of Snowpark Python these are available inside the integrated Anaconda repository, there are no manual installs or Python environment and dependency management required.\n\nRelevant documentation:\n\n- [Using third-party libraries in Snowflake](https://docs.snowflake.com/en/developer-guide/udf/python/udf-python-packages?_fsi=P4Dy8V0O&_fsi=P4Dy8V0O&_fsi=P4Dy8V0O&_fsi=P4Dy8V0O)\n- [Python User Defined Table Function](https://docs.snowflake.com/en/developer-guide/snowpark/python/creating-udtfs?_fsi=P4Dy8V0O&_fsi=P4Dy8V0O&_fsi=P4Dy8V0O&_fsi=P4Dy8V0O)\n\nCreate the function by [running the following query](https://docs.snowflake.com/en/user-guide/ui-snowsight-query?_fsi=P4Dy8V0O&_fsi=P4Dy8V0O&_fsi=P4Dy8V0O&_fsi=P4Dy8V0O#executing-and-running-queries) inside your worksheet"
  },
  {
   "cell_type": "code",
   "id": "95f08097-07b7-4893-aa7f-182fd8dff070",
   "metadata": {
    "language": "sql",
    "name": "cell6"
   },
   "outputs": [],
   "source": "create or replace function pdf_text_chunker(file_url string)\nreturns table (chunk varchar)\nlanguage python\nruntime_version = '3.9'\nhandler = 'pdf_text_chunker'\npackages = ('snowflake-snowpark-python','PyPDF2', 'langchain')\nas\n$$\nfrom snowflake.snowpark.types import StringType, StructField, StructType\nfrom langchain.text_splitter import RecursiveCharacterTextSplitter\nfrom snowflake.snowpark.files import SnowflakeFile\nimport PyPDF2, io\nimport logging\nimport pandas as pd\n\nclass pdf_text_chunker:\n\n    def read_pdf(self, file_url: str) -> str:\n    \n        logger = logging.getLogger(\"udf_logger\")\n        logger.info(f\"Opening file {file_url}\")\n    \n        with SnowflakeFile.open(file_url, 'rb') as f:\n            buffer = io.BytesIO(f.readall())\n            \n        reader = PyPDF2.PdfReader(buffer)   \n        text = \"\"\n        for page in reader.pages:\n            try:\n                text += page.extract_text().replace('\\n', ' ').replace('\\0', ' ')\n            except:\n                text = \"Unable to Extract\"\n                logger.warn(f\"Unable to extract from file {file_url}, page {page}\")\n        \n        return text\n\n    def process(self,file_url: str):\n\n        text = self.read_pdf(file_url)\n        \n        text_splitter = RecursiveCharacterTextSplitter(\n            chunk_size = 4000, #Adjust this as you see fit\n            chunk_overlap  = 400, #This let's text have some form of overlap. Useful for keeping chunks contextual\n            length_function = len\n        )\n    \n        chunks = text_splitter.split_text(text)\n        df = pd.DataFrame(chunks, columns=['chunks'])\n        \n        yield from df.itertuples(index=False, name=None)\n$$;",
   "execution_count": null
  },
  {
   "cell_type": "markdown",
   "id": "dcdf399d-fd46-4b4a-bcea-5f94b28c94fb",
   "metadata": {
    "name": "cell7",
    "collapsed": false
   },
   "source": "### Step 5. Create a Stage with Directory Table where you will be uploading your documents:"
  },
  {
   "cell_type": "code",
   "id": "6117acdb-9dec-45f5-889c-d19c83c3206a",
   "metadata": {
    "language": "sql",
    "name": "cell8"
   },
   "outputs": [],
   "source": "create or replace stage docs ENCRYPTION = (TYPE = 'SNOWFLAKE_SSE') DIRECTORY = ( ENABLE = true );",
   "execution_count": null
  },
  {
   "cell_type": "markdown",
   "id": "51f880c4-6236-42d6-bc64-992a43d6bffb",
   "metadata": {
    "name": "cell9",
    "collapsed": false
   },
   "source": "### Step 6. Upload documents to your staging area\n\n- Select Data on the left of Snowsight\n\n- Click on your database CC_QUICKSTART_CORTEX_DOCS\n\n- Click on your schema DATA\n\n- Click on Stages and select DOCS\n\n- On the top right click on the +Files botton\n\n- Drag and drop the two PDF files you downloaded\n\n### Step 7. Check files has been successfully uploaded\n\nRun this query to check what documents are in the staging area:\n"
  },
  {
   "cell_type": "code",
   "id": "64861c4d-5e20-49e2-bb3d-695c3f411c93",
   "metadata": {
    "language": "sql",
    "name": "cell10",
    "collapsed": false,
    "codeCollapsed": false
   },
   "outputs": [],
   "source": "ls @docs;",
   "execution_count": null
  },
  {
   "cell_type": "markdown",
   "id": "9d0c4c54-d085-4d56-8501-2bc170292ccc",
   "metadata": {
    "name": "cell11",
    "collapsed": false
   },
   "source": ""
  },
  {
   "cell_type": "markdown",
   "id": "23ae02ea-9224-4369-ba3b-03b06e338ea4",
   "metadata": {
    "name": "cell12",
    "collapsed": false
   },
   "source": "## Build the Vector Store\n\nIn this step we are going to leverage our document processing functions to prepare documents before turning the text into embeddings using Snowflake Cortex. These embeddings will be stored in a Snowflake Table using the new native VECTOR data type.\n\n### Step 1. \n\nCreate the table where we are going to store the chunks and vectors for each PDF. Note here the usage of the new VECTOR data type:"
  },
  {
   "cell_type": "code",
   "id": "0e57f79d-9465-4791-94fe-b55aaa55dae6",
   "metadata": {
    "language": "sql",
    "name": "cell13"
   },
   "outputs": [],
   "source": "create or replace TABLE DOCS_CHUNKS_TABLE ( \n    RELATIVE_PATH VARCHAR(16777216), -- Relative path to the PDF file\n    SIZE NUMBER(38,0), -- Size of the PDF\n    FILE_URL VARCHAR(16777216), -- URL for the PDF\n    SCOPED_FILE_URL VARCHAR(16777216), -- Scoped url (you can choose which one to keep depending on your use case)\n    CHUNK VARCHAR(16777216), -- Piece of text\n    CHUNK_VEC VECTOR(FLOAT, 768) );  -- Embedding using the VECTOR data type",
   "execution_count": null
  },
  {
   "cell_type": "markdown",
   "id": "4a72a258-af06-4c58-bf96-23057091d78c",
   "metadata": {
    "name": "cell14",
    "collapsed": false
   },
   "source": "### Step 2. \n\nUse the function previously created to process the PDF files, extract the chunks and created the embeddings. Insert that info in the table we have just created:"
  },
  {
   "cell_type": "code",
   "id": "9de61a1d-f96a-46ae-ae3f-6881da6ef8e8",
   "metadata": {
    "language": "sql",
    "name": "cell15"
   },
   "outputs": [],
   "source": "insert into docs_chunks_table (relative_path, size, file_url,\n                            scoped_file_url, chunk, chunk_vec)\n    select relative_path, \n            size,\n            file_url, \n            build_scoped_file_url(@docs, relative_path) as scoped_file_url,\n            func.chunk as chunk,\n            SNOWFLAKE.CORTEX.EMBED_TEXT_768('e5-base-v2',chunk) as chunk_vec\n    from \n        directory(@docs),\n        TABLE(pdf_text_chunker(build_scoped_file_url(@docs, relative_path))) as func;",
   "execution_count": null
  },
  {
   "cell_type": "markdown",
   "id": "3756d4b2-eaec-4997-838f-6c6eaa5f6059",
   "metadata": {
    "name": "cell16",
    "collapsed": false
   },
   "source": "### Explanation of the previous code:\n\nThe insert statement is reading the records from the docs_stream stream and it is generating a table calling the table function pdf_text_chunker, where we get the chunk that is the piece of text from the PDF.\n\nThe chunk text is passed to Snowflake Cortex to generate the embeddings with this code:"
  },
  {
   "cell_type": "code",
   "id": "0f067d92-c3b0-4f00-a043-30b8a49f8c39",
   "metadata": {
    "language": "sql",
    "name": "cell17"
   },
   "outputs": [],
   "source": "            SNOWFLAKE.CORTEX.EMBED_TEXT_768('e5-base-v2',chunk) as chunk_vec",
   "execution_count": null
  },
  {
   "cell_type": "markdown",
   "id": "99e737d3-e701-4ff3-aa0e-e729b2bf7656",
   "metadata": {
    "name": "cell19",
    "collapsed": false
   },
   "source": "That code is calling the embed_text function using the e5-base-v2 transformer and returning an embedding vector.\n\nIf you check the docs_chunks_table table, you should see the PDFs has been processed"
  },
  {
   "cell_type": "code",
   "id": "a8426cc3-189c-4330-8b29-4fe6b29c4c72",
   "metadata": {
    "language": "sql",
    "name": "cell18"
   },
   "outputs": [],
   "source": "select relative_path, size, chunk, chunk_vec from docs_chunks_table limit 5;",
   "execution_count": null
  },
  {
   "cell_type": "markdown",
   "id": "a31ead1b-85a4-4959-8cdb-f97d342c6ba2",
   "metadata": {
    "name": "cell20",
    "collapsed": false
   },
   "source": "And you can see the CHUNK_VEC columns that contains the embedings using the VECTOR data type.\n\nYour PDF files has been chunked and each chunk has an embedding. We can check how many chunks we got for each file using this query"
  },
  {
   "cell_type": "code",
   "id": "f1292774-8e8d-4d35-a2af-707fae57224d",
   "metadata": {
    "language": "sql",
    "name": "cell21"
   },
   "outputs": [],
   "source": "select relative_path, count(*) as num_chunks \n    from docs_chunks_table\n    group by relative_path;",
   "execution_count": null
  },
  {
   "cell_type": "markdown",
   "id": "4dca0e18-4699-442d-874a-b95feddee1c0",
   "metadata": {
    "name": "cell22",
    "collapsed": false
   },
   "source": "After completing all the steps in this section you should see the following objects in your database:\n\n- The DOCS_CHUNKS_TABLE that contains the text and the vectors\n- The DOCS Stage with your PDF files\n- The PDF_TEXT_CHUNKER function that extracts and chunk the text from the PDF files"
  },
  {
   "cell_type": "markdown",
   "id": "21d3a838-37c6-42cb-9b7b-3b26446787d3",
   "metadata": {
    "name": "cell23",
    "collapsed": false
   },
   "source": "## 4. Build Chat UI and Chat (Retrieval and Generation) Logic\n\nTo make it easy for anyone to ask questions against the vector store, let's create a fairly simple front-end using Streamlit. As part of the app, we will provide the end-user with a toggle that allows testing of LLM responses with and without access to the context to observe the differences.\n\nStreamlit in Snowflake allows you to run the app and share it with other Snowflake users within the same account. This ensures data remains secure and protected and is only available to users that meet your role-based access policies.\n\nRelevant documentation: [Introduction to Streamlit in Snowflake](https://docs.snowflake.com/en/developer-guide/streamlit/about-streamlit?_fsi=P4Dy8V0O&_fsi=P4Dy8V0O&_fsi=P4Dy8V0O&_fsi=P4Dy8V0O)\n\n- Click on the Streamlit tab on the left\n- Click on + Streamlit App button on the right\n- Give the App a name (CC_CORTEX_APP in my example)\n- Select the warehouse to run the App (a Small WH will be enough)\n- Choose the CC_QUICKSTART_CORTEX_DOCS database and DATA schema\n\nThe Streamlit app comes with a default template you can delete and replace with this code which includes the front-end elements:\n\n- Table with list of available documents\n- Toggle to choose to use documents as context\n- Question input box\n\nAnd also includes the retrieval and generation logic:\n\n- Function to calculate distance between question and text chunks to retrieve top result\n- Prompt template that instructs LLM how to answer using relevant chunks"
  },
  {
   "cell_type": "code",
   "id": "f959508e-8ed2-46f3-a409-353a479ff8be",
   "metadata": {
    "language": "python",
    "name": "cell24"
   },
   "outputs": [],
   "source": "import streamlit as st # Import python packages\nfrom snowflake.snowpark.context import get_active_session\nsession = get_active_session() # Get the current credentials\n\nimport pandas as pd\n\npd.set_option(\"max_colwidth\",None)\nnum_chunks = 3 # Num-chunks provided as context. Play with this to check how it affects your accuracy\n\ndef create_prompt (myquestion, rag):\n\n    if rag == 1:    \n\n        cmd = \"\"\"\n         with results as\n         (SELECT RELATIVE_PATH,\n           VECTOR_COSINE_SIMILARITY(docs_chunks_table.chunk_vec,\n                    SNOWFLAKE.CORTEX.EMBED_TEXT_768('e5-base-v2', ?)) as similarity,\n           chunk\n         from docs_chunks_table\n         order by similarity desc\n         limit ?)\n         select chunk, relative_path from results \n         \"\"\"\n    \n        df_context = session.sql(cmd, params=[myquestion, num_chunks]).to_pandas()      \n        \n        context_lenght = len(df_context) -1\n\n        prompt_context = \"\"\n        for i in range (0, context_lenght):\n            prompt_context += df_context._get_value(i, 'CHUNK')\n\n        prompt_context = prompt_context.replace(\"'\", \"\")\n        relative_path =  df_context._get_value(0,'RELATIVE_PATH')\n    \n        prompt = f\"\"\"\n          'You are an expert assistance extracting information from context provided. \n           Answer the question based on the context. Be concise and do not hallucinate. \n           If you don´t have the information just say so.\n          Context: {prompt_context}\n          Question:  \n           {myquestion} \n           Answer: '\n           \"\"\"\n        cmd2 = f\"select GET_PRESIGNED_URL(@docs, '{relative_path}', 360) as URL_LINK from directory(@docs)\"\n        df_url_link = session.sql(cmd2).to_pandas()\n        url_link = df_url_link._get_value(0,'URL_LINK')\n\n    else:\n        prompt = f\"\"\"\n         'Question:  \n           {myquestion} \n           Answer: '\n           \"\"\"\n        url_link = \"None\"\n        relative_path = \"None\"\n        \n    return prompt, url_link, relative_path\n\ndef complete(myquestion, model_name, rag = 1):\n\n    prompt, url_link, relative_path =create_prompt (myquestion, rag)\n    cmd = f\"\"\"\n             select SNOWFLAKE.CORTEX.COMPLETE(?,?) as response\n           \"\"\"\n    \n    df_response = session.sql(cmd, params=[model_name, prompt]).collect()\n    return df_response, url_link, relative_path\n\ndef display_response (question, model, rag=0):\n    response, url_link, relative_path = complete(question, model, rag)\n    res_text = response[0].RESPONSE\n    st.markdown(res_text)\n    if rag == 1:\n        display_url = f\"Link to [{relative_path}]({url_link}) that may be useful\"\n        st.markdown(display_url)\n\n#Main code\n\nst.title(\"Asking Questions to Your Own Documents with Snowflake Cortex:\")\nst.write(\"\"\"You can ask questions and decide if you want to use your documents for context or allow the model to create their own response.\"\"\")\nst.write(\"This is the list of documents you already have:\")\ndocs_available = session.sql(\"ls @docs\").collect()\nlist_docs = []\nfor doc in docs_available:\n    list_docs.append(doc[\"name\"])\nst.dataframe(list_docs)\n\n#Here you can choose what LLM to use. Please note that they will have different cost & performance\nmodel = st.sidebar.selectbox('Select your model:',(\n                                    'mixtral-8x7b',\n                                    'snowflake-arctic',\n                                    'mistral-large',\n                                    'llama3-8b',\n                                    'llama3-70b',\n                                    'reka-flash',\n                                     'mistral-7b',\n                                     'llama2-70b-chat',\n                                     'gemma-7b'))\n\nquestion = st.text_input(\"Enter question\", placeholder=\"Is there any special lubricant to be used with the premium bike?\", label_visibility=\"collapsed\")\n\nrag = st.sidebar.checkbox('Use your own documents as context?')\n\nprint (rag)\n\nif rag:\n    use_rag = 1\nelse:\n    use_rag = 0\n\nif question:\n    display_response (question, model, use_rag)",
   "execution_count": null
  },
  {
   "cell_type": "markdown",
   "id": "ce5992dc-f7cb-4030-ab91-cb857af4efb3",
   "metadata": {
    "name": "cell25",
    "collapsed": false
   },
   "source": "### Explanation\n\nLet´s go step by step what that code is doing:\n\ncreate_prompt() receives a question as an argument and whether it has to use the context documents or not. This can be used to compare how the LLM responds when using the RAG framework vs. using existing knowledge gained during pre-training.\n\nWhen the box is checked, this code is going embed the question and look for the PDF chunk with the closest similarity to the question being asked. We can limit the number of chunks we want to provide as a context. That text will be added to the prompt as context and a link to download the source of the answer is made available for the user to verify the results."
  },
  {
   "cell_type": "code",
   "id": "37e29521-7b95-497e-bd19-c0310758d9d9",
   "metadata": {
    "language": "python",
    "name": "cell26"
   },
   "outputs": [],
   "source": "cmd = \"\"\"\n          with results as\n         (SELECT RELATIVE_PATH,\n           VECTOR_COSINE_SIMILARITY(docs_chunks_table.chunk_vec,\n                    SNOWFLAKE.CORTEX.EMBED_TEXT_768('e5-base-v2', ?)) as similarity,\n           chunk\n         from docs_chunks_table\n         order by similarity desc\n         limit ?)\n         select chunk, relative_path from results \n\n          \"\"\"\n    \ndf_context = session.sql(cmd, params=[myquestion, num_chunks]).to_pandas()",
   "execution_count": null
  },
  {
   "cell_type": "markdown",
   "id": "9f97015a-d681-4b5f-877a-0c58ea3a8f12",
   "metadata": {
    "name": "cell27",
    "collapsed": false
   },
   "source": "So the code is doing a similarity search to look for the closest chunk of text and provide it as context in the prompt:\n\nThe next section worth calling out is the complete() function which combines the LLM, the prompt template and whether to use the context or not to generate a response which includes a link to the asset from which the answer was obtained."
  },
  {
   "cell_type": "code",
   "id": "4b9dc4f3-2696-4e86-9d2f-b5af60edec17",
   "metadata": {
    "language": "python",
    "name": "cell28"
   },
   "outputs": [],
   "source": "def complete(myquestion, model_name, rag = 1):\n\n    prompt, url_link, relative_path =create_prompt (myquestion, rag)\n    cmd = f\"\"\"\n             select SNOWFLAKE.CORTEX.COMPLETE(?,?) as response\n           \"\"\"\n    \n    df_response = session.sql(cmd, params=[model_name, prompt]).collect()\n    return df_response, url_link, relative_path",
   "execution_count": null
  },
  {
   "cell_type": "markdown",
   "id": "983c8600-e8d5-447b-a927-295c1355f4b9",
   "metadata": {
    "name": "cell29",
    "collapsed": false
   },
   "source": "### Deploy and share your AI-powered app\n\nStreamlit in Snowflake provides a side-by-side editor and preview screen that makes it easy and fast to iterate and visalize changes.\n\nIn the app, we can see the documents we had uploaded previously and can be used to ask questions while trying multiple options using interactive widgets:\n\n- LLM dropdown: Evaluate the response to the same question from different LLMs available in Snowflake Cortex.\n- Context toggle: Check the box to receive answer with RAG. Uncheck to see how LLM answers without access to the context.\n\nTo test out the RAG framework, here a few questions you can ask and then use the interactive widgets to compare the results when using a different LLM or when choosing to get a response without the context. This is related to very specific information that we have added into the documents and that is very unique to our products.\n\n- Is there any special lubricant to be used with the premium bike?\n- What is the warranty for the premium bike?\n- Does the mondracer infant bike need any special tool?\n- Is there any temperature to be considered with the premium bicycle?\n- What is the temperature to store the ski boots?\n- Where have the ski boots been tested and who tested them?\n\n### Other things to test\n\nIn this example we have just decided a fixed format for chunks and used only the top result in the retrieval process. This [blog](https://medium.com/@thechosentom/rag-made-simple-with-snowflake-cortex-74d1df5143fd) provides some considerations about settings in the chunking function in our Snowpark UDTF."
  },
  {
   "cell_type": "code",
   "id": "2a2b50ae-cb0c-45bd-9e6d-5301be16c925",
   "metadata": {
    "language": "python",
    "name": "cell30"
   },
   "outputs": [],
   "source": "text_splitter = RecursiveCharacterTextSplitter(\n            chunk_size = 4000, #Adjust this as you see fit\n            chunk_overlap  = 400, #This let's text have some form of overlap. Useful for keeping chunks contextual\n            length_function = len\n        )",
   "execution_count": null
  },
  {
   "cell_type": "markdown",
   "id": "fe3599b8-d878-4557-929d-79ec821169ac",
   "metadata": {
    "name": "cell31",
    "collapsed": false
   },
   "source": "You can also try different instructions in your prompt and see how the responses may vary. Simply replace any of the text and run the app again."
  },
  {
   "cell_type": "code",
   "id": "aa9b9f7a-472e-41d1-a33f-adf6a7df06bb",
   "metadata": {
    "language": "python",
    "name": "cell32"
   },
   "outputs": [],
   "source": "prompt = f\"\"\"\n          'You are an expert assistance extracting information from context provided. \n           Answer the question based on the context. Be concise and do not hallucinate. \n           If you don´t have the information just say so.\n          Context: {prompt_context}\n          Question:  \n           {myquestion} \n           Answer: '\n           \"\"\"",
   "execution_count": null
  },
  {
   "cell_type": "markdown",
   "id": "bf9da4c4-1000-4971-aadb-47b1c506fc9a",
   "metadata": {
    "name": "cell33",
    "collapsed": false
   },
   "source": "You can also try to change the number of chunks that are provided as context by simply modifying this value:"
  },
  {
   "cell_type": "code",
   "id": "6bb1d945-4e09-43a3-a04e-ac77f75ece18",
   "metadata": {
    "language": "python",
    "name": "cell34"
   },
   "outputs": [],
   "source": "num_chunks = 3",
   "execution_count": null
  },
  {
   "cell_type": "markdown",
   "id": "91de472c-7979-4498-8f6a-a460421c8e1e",
   "metadata": {
    "name": "cell35",
    "collapsed": false
   },
   "source": "## 5. Build a ChatBot UI that Remember Previous Conversations\n\nIn the previous section we have created a simple interface where we can ask questions about our documents and select the LLM running within Snowflake Cortex to answer the question. We have seen that when no context from our documents is provided, we just get a general answer, versus a specific answer related to our documents when we use context from the PDFs. But what if we want to have a conversation sytle?\n\nStreamlit makes it very easy to create chat interfaces with its [Chat Elements](https://docs.streamlit.io/develop/api-reference/chat?_fsi=P4Dy8V0O&_fsi=P4Dy8V0O&_fsi=P4Dy8V0O&_fsi=P4Dy8V0O). In this section we are going to see how we can write a simple app that can be used to have a conversation, and how it uses the data from our documents to provide answers.\n\nLarge Language Models (LLMs) are stateless. That means when we make a call to any of them, it does not remember what the previous call was about. With Snowflake Cortex, each complete() call we make is independent, even when using the same model. There are several techniques that can be used to keep the conversation flow and do not forget the chat history. In summary, the app needs to keep a memory of the conversation and provide it in each call to the LLM. As we know, calls to LLMs are restricted by the context window length that can be used.\n\nIn this lab, we are going to use a slide window concept. This helps to remember just a number of past interactions when calling the LLM. We are also going to summarize the previous conversation in order to find the right chunk in our documents that will help the LLM and provide the right answer. In the previous section, we were embedding the new question to find the right chunk for context. Here, we are going to also include the previous summary to find the chunks that will be used as context.\n\nFirst let´s create the new Streamlit App and then we will discuss each of the steps. Give it a name and create it within the database and schema that we are using in this lab (CC_QUICKSTART_CORTEX_DOCS.DATA) or whatever name you may have chosen.\n\nThe Streamlit app comes with a default template you can delete and replace with this code which includes the front-end elements:"
  },
  {
   "cell_type": "code",
   "id": "7dd2cac0-396a-45e2-b3d1-f2705fc03f41",
   "metadata": {
    "language": "python",
    "name": "cell36"
   },
   "outputs": [],
   "source": "import streamlit as st # Import python packages\nfrom snowflake.snowpark.context import get_active_session\nsession = get_active_session() # Get the current credentials\n\nimport pandas as pd\n\npd.set_option(\"max_colwidth\",None)\n\n### Default Values\n#model_name = 'mistral-7b' #Default but we allow user to select one\nnum_chunks = 3 # Num-chunks provided as context. Play with this to check how it affects your accuracy\nslide_window = 7 # how many last conversations to remember. This is the slide window.\n#debug = 1 #Set this to 1 if you want to see what is the text created as summary and sent to get chunks\n#use_chat_history = 0 #Use the chat history by default\n\n### Functions\n\ndef main():\n    \n    st.title(f\":speech_balloon: Chat Document Assistant with Snowflake Cortex\")\n    st.write(\"This is the list of documents you already have and that will be used to answer your questions:\")\n    docs_available = session.sql(\"ls @docs\").collect()\n    list_docs = []\n    for doc in docs_available:\n        list_docs.append(doc[\"name\"])\n    st.dataframe(list_docs)\n\n    config_options()\n    init_messages()\n     \n    # Display chat messages from history on app rerun\n    for message in st.session_state.messages:\n        with st.chat_message(message[\"role\"]):\n            st.markdown(message[\"content\"])\n    \n    # Accept user input\n    if question := st.chat_input(\"What do you want to know about your products?\"):\n        # Add user message to chat history\n        st.session_state.messages.append({\"role\": \"user\", \"content\": question})\n        # Display user message in chat message container\n        with st.chat_message(\"user\"):\n            st.markdown(question)\n        # Display assistant response in chat message container\n        with st.chat_message(\"assistant\"):\n            message_placeholder = st.empty()\n    \n            question = question.replace(\"'\",\"\")\n    \n            with st.spinner(f\"{st.session_state.model_name} thinking...\"):\n                response = complete(question)\n                res_text = response[0].RESPONSE     \n            \n                res_text = res_text.replace(\"'\", \"\")\n                message_placeholder.markdown(res_text)\n        \n        st.session_state.messages.append({\"role\": \"assistant\", \"content\": res_text})\n\n\ndef config_options():\n\n\n    \n    st.sidebar.selectbox('Select your model:',(\n                                    'mixtral-8x7b',\n                                    'snowflake-arctic',\n                                    'mistral-large',\n                                    'llama3-8b',\n                                    'llama3-70b',\n                                    'reka-flash',\n                                     'mistral-7b',\n                                     'llama2-70b-chat',\n                                     'gemma-7b'), key=\"model_name\")\n                                           \n    # For educational purposes. Users can chech the difference when using memory or not\n    st.sidebar.checkbox('Do you want that I remember the chat history?', key=\"use_chat_history\", value = True)\n\n    st.sidebar.checkbox('Debug: Click to see summary generated of previous conversation', key=\"debug\", value = True)\n    st.sidebar.button(\"Start Over\", key=\"clear_conversation\")\n    st.sidebar.expander(\"Session State\").write(st.session_state)\n\n\ndef init_messages():\n\n    # Initialize chat history\n    if st.session_state.clear_conversation or \"messages\" not in st.session_state:\n        st.session_state.messages = []\n\n    \ndef get_similar_chunks (question):\n\n    cmd = \"\"\"\n        with results as\n        (SELECT RELATIVE_PATH,\n           VECTOR_COSINE_SIMILARITY(docs_chunks_table.chunk_vec,\n                    SNOWFLAKE.CORTEX.EMBED_TEXT_768('e5-base-v2', ?)) as similarity,\n           chunk\n        from docs_chunks_table\n        order by similarity desc\n        limit ?)\n        select chunk, relative_path from results \n    \"\"\"\n    \n    df_chunks = session.sql(cmd, params=[question, num_chunks]).to_pandas()       \n\n    df_chunks_lenght = len(df_chunks) -1\n\n    similar_chunks = \"\"\n    for i in range (0, df_chunks_lenght):\n        similar_chunks += df_chunks._get_value(i, 'CHUNK')\n\n    similar_chunks = similar_chunks.replace(\"'\", \"\")\n             \n    return similar_chunks\n\n\ndef get_chat_history():\n#Get the history from the st.session_stage.messages according to the slide window parameter\n    \n    chat_history = []\n    \n    start_index = max(0, len(st.session_state.messages) - slide_window)\n    for i in range (start_index , len(st.session_state.messages) -1):\n         chat_history.append(st.session_state.messages[i])\n\n    return chat_history\n\n    \ndef summarize_question_with_history(chat_history, question):\n# To get the right context, use the LLM to first summarize the previous conversation\n# This will be used to get embeddings and find similar chunks in the docs for context\n\n    prompt = f\"\"\"\n        Based on the chat history below and the question, generate a query that extend the question\n        with the chat history provided. The query should be in natual language. \n        Answer with only the query. Do not add any explanation.\n        \n        <chat_history>\n        {chat_history}\n        </chat_history>\n        <question>\n        {question}\n        </question>\n        \"\"\"\n    \n    cmd = \"\"\"\n            select snowflake.cortex.complete(?, ?) as response\n          \"\"\"\n    df_response = session.sql(cmd, params=[st.session_state.model_name, prompt]).collect()\n    sumary = df_response[0].RESPONSE     \n\n    if st.session_state.debug:\n        st.sidebar.text(\"Summary to be used to find similar chunks in the docs:\")\n        st.sidebar.caption(sumary)\n\n    sumary = sumary.replace(\"'\", \"\")\n\n    return sumary\n\ndef create_prompt (myquestion):\n\n    if st.session_state.use_chat_history:\n        chat_history = get_chat_history()\n\n        if chat_history != []: #There is chat_history, so not first question\n            question_summary = summarize_question_with_history(chat_history, myquestion)\n            prompt_context =  get_similar_chunks(question_summary)\n        else:\n            prompt_context = get_similar_chunks(myquestion) #First question when using history\n    else:\n        prompt_context = get_similar_chunks(myquestion)\n        chat_history = \"\"\n  \n    prompt = f\"\"\"\n           You are an expert chat assistance that extracs information from the CONTEXT provided\n           between <context> and </context> tags.\n           You offer a chat experience considering the information included in the CHAT HISTORY\n           provided between <chat_history> and </chat_history> tags..\n           When ansering the question contained between <question> and </question> tags\n           be concise and do not hallucinate. \n           If you don´t have the information just say so.\n           \n           Do not mention the CONTEXT used in your answer.\n           Do not mention the CHAT HISTORY used in your asnwer.\n           \n           <chat_history>\n           {chat_history}\n           </chat_history>\n           <context>          \n           {prompt_context}\n           </context>\n           <question>  \n           {myquestion}\n           </question>\n           Answer: \n           \"\"\"\n\n    return prompt\n\n\ndef complete(myquestion):\n\n    prompt =create_prompt (myquestion)\n    cmd = \"\"\"\n            select snowflake.cortex.complete(?, ?) as response\n          \"\"\"\n    \n    df_response = session.sql(cmd, params=[st.session_state.model_name, prompt]).collect()\n    return df_response\n\nif __name__ == \"__main__\":\n    main()",
   "execution_count": null
  },
  {
   "cell_type": "markdown",
   "id": "64b64aa1-1056-464c-b2f8-86da91346af7",
   "metadata": {
    "name": "cell37",
    "collapsed": false
   },
   "source": "The app will look like this (note the side bar where you can select several options)"
  }
 ]
}